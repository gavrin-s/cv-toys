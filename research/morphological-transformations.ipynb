{
 "cells": [
  {
   "cell_type": "markdown",
   "metadata": {},
   "source": [
    "# Morphological Transformations: erosion and dilation\n",
    "https://opencv-python-tutroals.readthedocs.io/en/latest/py_tutorials/py_imgproc/py_morphological_ops/py_morphological_ops.html"
   ]
  },
  {
   "cell_type": "code",
   "execution_count": 1,
   "metadata": {},
   "outputs": [],
   "source": [
    "%load_ext autoreload\n",
    "%autoreload 2"
   ]
  },
  {
   "cell_type": "code",
   "execution_count": 2,
   "metadata": {},
   "outputs": [],
   "source": [
    "from IPython.core.interactiveshell import InteractiveShell\n",
    "InteractiveShell.ast_node_interactivity = 'all'\n",
    "\n",
    "import warnings\n",
    "warnings.simplefilter('ignore')\n",
    "\n",
    "import gc\n",
    "\n",
    "from os import path\n",
    "import sys\n",
    "sys.path.append(path.abspath('..'))"
   ]
  },
  {
   "cell_type": "code",
   "execution_count": 30,
   "metadata": {},
   "outputs": [],
   "source": [
    "import cv2\n",
    "import numpy as np\n",
    "from numpy.random import randint\n",
    "import matplotlib.pyplot as plt\n",
    "from PIL import Image\n",
    "\n",
    "from src.config import DATA_PATH"
   ]
  },
  {
   "cell_type": "code",
   "execution_count": 8,
   "metadata": {},
   "outputs": [
    {
     "data": {
      "image/png": "[encoded data removed]",
      "text/plain": [
       "<PIL.Image.Image image mode=L size=112x150 at 0x7F775229C390>"
      ]
     },
     "execution_count": 8,
     "metadata": {},
     "output_type": "execute_result"
    }
   ],
   "source": [
    "image = cv2.imread(path.join(DATA_PATH, \"j.png\"), cv2.IMREAD_GRAYSCALE)\n",
    "Image.fromarray(image)"
   ]
  },
  {
   "cell_type": "code",
   "execution_count": 68,
   "metadata": {},
   "outputs": [
    {
     "data": {
      "image/png": "[encoded data removed]",
      "text/plain": [
       "<PIL.Image.Image image mode=L size=112x150 at 0x7F7751AEC710>"
      ]
     },
     "execution_count": 68,
     "metadata": {},
     "output_type": "execute_result"
    },
    {
     "data": {
      "image/png": "[encoded data removed]",
      "text/plain": [
       "<PIL.Image.Image image mode=L size=112x150 at 0x7F7751AEC550>"
      ]
     },
     "execution_count": 68,
     "metadata": {},
     "output_type": "execute_result"
    }
   ],
   "source": [
    "# Add noise white\n",
    "image_noised_white = image.copy()\n",
    "for _ in range(30):\n",
    "    image_noised_white = cv2.circle(image_noised_white,\n",
    "                                    (randint(0, image.shape[0]),\n",
    "                                     randint(0, image.shape[1])),\n",
    "                                    randint(0, 2), (255,), -1\n",
    "                                   )\n",
    "Image.fromarray(image_noised_white)\n",
    "\n",
    "# Add noise black\n",
    "image_noised_black = image.copy()\n",
    "for _ in range(500):\n",
    "    image_noised_black = cv2.circle(image_noised_black,\n",
    "                                    (randint(0, image.shape[0]),\n",
    "                                     randint(0, image.shape[1])),\n",
    "                                    randint(0, 2), (0,), -1\n",
    "                                   )\n",
    "Image.fromarray(image_noised_black)"
   ]
  },
  {
   "cell_type": "code",
   "execution_count": 14,
   "metadata": {},
   "outputs": [
    {
     "data": {
      "image/png": "[encoded data removed]",
      "text/plain": [
       "<PIL.Image.Image image mode=L size=112x150 at 0x7F7752175E48>"
      ]
     },
     "execution_count": 14,
     "metadata": {},
     "output_type": "execute_result"
    }
   ],
   "source": [
    "# Erosion\n",
    "kernel = np.ones((3, 3), np.uint8)\n",
    "image_transformed = cv2.erode(image, kernel, iterations=2)\n",
    "\n",
    "Image.fromarray(image_transformed)"
   ]
  },
  {
   "cell_type": "code",
   "execution_count": 48,
   "metadata": {},
   "outputs": [
    {
     "data": {
      "image/png": "[encoded data removed]",
      "text/plain": [
       "<PIL.Image.Image image mode=L size=112x150 at 0x7F7751BB7198>"
      ]
     },
     "execution_count": 48,
     "metadata": {},
     "output_type": "execute_result"
    }
   ],
   "source": [
    "# Dilation\n",
    "kernel = np.ones((3, 3), np.uint8)\n",
    "image_transformed = cv2.dilate(image, kernel, iterations=1)\n",
    "# image_transformed = cv2.erode(image_transformed, kernel, iterations=2)\n",
    "Image.fromarray(image_transformed)"
   ]
  },
  {
   "cell_type": "code",
   "execution_count": 28,
   "metadata": {},
   "outputs": [
    {
     "data": {
      "image/png": "[encoded data removed]",
      "text/plain": [
       "<PIL.Image.Image image mode=L size=112x150 at 0x7F7752173A90>"
      ]
     },
     "execution_count": 28,
     "metadata": {},
     "output_type": "execute_result"
    }
   ],
   "source": [
    "# For fun!!!\n",
    "kernel = np.ones((3, 3), np.uint8)\n",
    "image_transformed = cv2.dilate(image, kernel, iterations=1)\n",
    "image_transformed = cv2.erode(image_transformed, kernel, iterations=2)\n",
    "\n",
    "Image.fromarray(image - image_transformed)"
   ]
  },
  {
   "cell_type": "code",
   "execution_count": 69,
   "metadata": {},
   "outputs": [
    {
     "data": {
      "image/png": "[encoded data removed]",
      "text/plain": [
       "<PIL.Image.Image image mode=L size=112x150 at 0x7F7751ADD940>"
      ]
     },
     "execution_count": 69,
     "metadata": {},
     "output_type": "execute_result"
    },
    {
     "data": {
      "image/png": "[encoded data removed]",
      "text/plain": [
       "<PIL.Image.Image image mode=L size=112x150 at 0x7F7751ADD128>"
      ]
     },
     "execution_count": 69,
     "metadata": {},
     "output_type": "execute_result"
    }
   ],
   "source": [
    "# opening: erosion by dilation\n",
    "kernel = np.ones((5, 5), np.uint8)\n",
    "image_transformed = cv2.morphologyEx(image_noised_white, cv2.MORPH_OPEN,\n",
    "                                     kernel)\n",
    "Image.fromarray(image_noised)\n",
    "Image.fromarray(image_transformed)"
   ]
  },
  {
   "cell_type": "code",
   "execution_count": 70,
   "metadata": {},
   "outputs": [
    {
     "data": {
      "image/png": "[encoded data removed]",
      "text/plain": [
       "<PIL.Image.Image image mode=L size=112x150 at 0x7F7751AC5978>"
      ]
     },
     "execution_count": 70,
     "metadata": {},
     "output_type": "execute_result"
    },
    {
     "data": {
      "image/png": "[encoded data removed]",
      "text/plain": [
       "<PIL.Image.Image image mode=L size=112x150 at 0x7F7751AC5898>"
      ]
     },
     "execution_count": 70,
     "metadata": {},
     "output_type": "execute_result"
    }
   ],
   "source": [
    "# closing: erosion by dilation\n",
    "kernel = np.ones((3, 3), np.uint8)\n",
    "image_transformed = cv2.morphologyEx(image_noised_black, cv2.MORPH_CLOSE,\n",
    "                                     kernel)\n",
    "Image.fromarray(image_noised_black)\n",
    "Image.fromarray(image_transformed)"
   ]
  },
  {
   "cell_type": "code",
   "execution_count": 80,
   "metadata": {},
   "outputs": [
    {
     "data": {
      "image/png": "[encoded data removed]",
      "text/plain": [
       "<PIL.Image.Image image mode=L size=112x150 at 0x7F7751977BE0>"
      ]
     },
     "execution_count": 80,
     "metadata": {},
     "output_type": "execute_result"
    }
   ],
   "source": [
    "# Morphological gradient\n",
    "kernel = np.ones((3, 3), np.uint8)\n",
    "image_transformed = cv2.morphologyEx(image, cv2.MORPH_GRADIENT,\n",
    "                                     kernel, iterations=1)\n",
    "Image.fromarray(image_transformed)"
   ]
  },
  {
   "cell_type": "code",
   "execution_count": 86,
   "metadata": {},
   "outputs": [
    {
     "data": {
      "image/png": "[encoded data removed]",
      "text/plain": [
       "<PIL.Image.Image image mode=L size=112x150 at 0x7F77519232E8>"
      ]
     },
     "execution_count": 86,
     "metadata": {},
     "output_type": "execute_result"
    }
   ],
   "source": [
    "# Top Hat\n",
    "kernel = np.ones((9, 9), np.uint8)\n",
    "image_transformed = cv2.morphologyEx(image, cv2.MORPH_TOPHAT,\n",
    "                                     kernel, iterations=1)\n",
    "Image.fromarray(image_transformed)"
   ]
  },
  {
   "cell_type": "code",
   "execution_count": 87,
   "metadata": {},
   "outputs": [
    {
     "data": {
      "image/png": "[encoded data removed]",
      "text/plain": [
       "<PIL.Image.Image image mode=L size=112x150 at 0x7F7751923B00>"
      ]
     },
     "execution_count": 87,
     "metadata": {},
     "output_type": "execute_result"
    }
   ],
   "source": [
    "# Black Hat\n",
    "kernel = np.ones((9, 9), np.uint8)\n",
    "image_transformed = cv2.morphologyEx(image, cv2.MORPH_BLACKHAT,\n",
    "                                     kernel, iterations=1)\n",
    "Image.fromarray(image_transformed)"
   ]
  },
  {
   "cell_type": "code",
   "execution_count": 91,
   "metadata": {},
   "outputs": [
    {
     "data": {
      "image/png": "[encoded data removed]",
      "text/plain": [
       "<PIL.Image.Image image mode=L size=112x150 at 0x7F7751F392E8>"
      ]
     },
     "execution_count": 91,
     "metadata": {},
     "output_type": "execute_result"
    }
   ],
   "source": [
    "# Black Hat\n",
    "kernel = np.ones((3, 3), np.uint8)\n",
    "image_transformed = cv2.morphologyEx(image, cv2.MORPH_HITMISS,\n",
    "                                     kernel, iterations=1)\n",
    "Image.fromarray(image_transformed)"
   ]
  },
  {
   "cell_type": "code",
   "execution_count": 96,
   "metadata": {},
   "outputs": [
    {
     "data": {
      "image/png": "[encoded data removed]",
      "text/plain": [
       "<PIL.Image.Image image mode=L size=112x150 at 0x7F7751A8B390>"
      ]
     },
     "execution_count": 96,
     "metadata": {},
     "output_type": "execute_result"
    },
    {
     "data": {
      "image/png": "[encoded data removed]",
      "text/plain": [
       "<PIL.Image.Image image mode=L size=112x150 at 0x7F7751A8B240>"
      ]
     },
     "execution_count": 96,
     "metadata": {},
     "output_type": "execute_result"
    },
    {
     "data": {
      "image/png": "[encoded data removed]",
      "text/plain": [
       "<PIL.Image.Image image mode=L size=112x150 at 0x7F7751A8B198>"
      ]
     },
     "execution_count": 96,
     "metadata": {},
     "output_type": "execute_result"
    }
   ],
   "source": [
    "# Custom structuring element with erosion\n",
    "\n",
    "kernel_recrangle = cv2.getStructuringElement(cv2.MORPH_RECT,(5,5))\n",
    "kernel_elliptical = cv2.getStructuringElement(cv2.MORPH_ELLIPSE,(5,5))\n",
    "kernel_cross = cv2.getStructuringElement(cv2.MORPH_CROSS,(5,5))\n",
    "\n",
    "\n",
    "image_transformed_rectangle = cv2.morphologyEx(image,cv2.MORPH_ERODE,\n",
    "                                               kernel_recrangle)\n",
    "image_transformed_ellipse = cv2.morphologyEx(image, cv2.MORPH_ERODE,\n",
    "                                             kernel_elliptical)\n",
    "image_transformed_cross = cv2.morphologyEx(image, cv2.MORPH_ERODE,\n",
    "                                             kernel_cross)\n",
    "\n",
    "Image.fromarray(image_transformed_rectangle)\n",
    "Image.fromarray(image_transformed_ellipse)\n",
    "Image.fromarray(image_transformed_cross)"
   ]
  },
  {
   "cell_type": "code",
   "execution_count": null,
   "metadata": {},
   "outputs": [],
   "source": []
  }
 ],
 "metadata": {
  "kernelspec": {
   "display_name": "Python 3",
   "language": "python",
   "name": "python3"
  },
  "language_info": {
   "codemirror_mode": {
    "name": "ipython",
    "version": 3
   },
   "file_extension": ".py",
   "mimetype": "text/x-python",
   "name": "python",
   "nbconvert_exporter": "python",
   "pygments_lexer": "ipython3",
   "version": "3.6.9"
  }
 },
 "nbformat": 4,
 "nbformat_minor": 2
}
